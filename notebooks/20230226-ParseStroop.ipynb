{
 "cells": [
  {
   "cell_type": "code",
   "execution_count": null,
   "metadata": {},
   "outputs": [],
   "source": [
    "import pandas as pd\n",
    "import os"
   ]
  },
  {
   "cell_type": "code",
   "execution_count": null,
   "metadata": {},
   "outputs": [],
   "source": [
    "fpath = '../data/01_raw/'\n",
    "collection = 'Stroop_Baseline2'\n",
    "\n",
    "dir = os.path.join(fpath, collection)\n",
    "ex_file = os.listdir(dir)[0]\n",
    "\n",
    "example = os.path.join(dir, ex_file)\n",
    "example"
   ]
  },
  {
   "cell_type": "code",
   "execution_count": null,
   "metadata": {},
   "outputs": [],
   "source": [
    "def grab_header(fpath: str) -> pd.DataFrame:\n",
    "\n",
    "    NROWS=8\n",
    "\n",
    "    df = pd.read_csv(fpath, header=None, nrows=NROWS)\n",
    "    df = df.iloc[:, 0:2].T\n",
    "\n",
    "    # header\n",
    "    head = df.iloc[0]\n",
    "    df = df[1:]\n",
    "    df.columns = head\n",
    "\n",
    "    return df.reset_index(drop=True)\n",
    "\n",
    "header = grab_header(example)\n",
    "header"
   ]
  },
  {
   "cell_type": "code",
   "execution_count": null,
   "metadata": {},
   "outputs": [],
   "source": [
    "def grab_data(fpath: str) -> pd.DataFrame:\n",
    "\n",
    "    SKIPROWS=17\n",
    "    df = pd.read_csv(example, skiprows=SKIPROWS)\n",
    "\n",
    "    return df.reset_index(drop=True)\n",
    "\n",
    "data = grab_data(example)\n",
    "data"
   ]
  },
  {
   "cell_type": "code",
   "execution_count": null,
   "metadata": {},
   "outputs": [],
   "source": [
    "def merge_header(header: pd.DataFrame, data: pd.DataFrame) -> pd.DataFrame:\n",
    "\n",
    "    df = pd.concat([header, data], axis=1)\n",
    "    df = (df\n",
    "          .ffill()\n",
    "          .drop_duplicates())\n",
    "\n",
    "    return df\n",
    "\n",
    "merge_header(header, data)"
   ]
  },
  {
   "cell_type": "code",
   "execution_count": null,
   "metadata": {},
   "outputs": [],
   "source": [
    "def assemble_stroop(fpath='../data/01_raw/', outpath= '../data/02_processed/stroop_concat.csv', rtn_output=False) -> pd.DataFrame:\n",
    "    dfs = []\n",
    "    collections = ['Stroop_Baseline2', 'Stroop_Week2', 'Stroop_Week6', 'Stroop_Week12']\n",
    "\n",
    "    for collection in collections:\n",
    "\n",
    "        dir = os.path.join(fpath, collection)\n",
    "        files = os.listdir(dir)\n",
    "\n",
    "        for f in files:\n",
    "            \n",
    "            infile = os.path.join(dir, f)\n",
    "\n",
    "            tmp_head = grab_header(infile)\n",
    "            tmp_data = grab_data(infile)\n",
    "            tmp_merged = merge_header(tmp_head, tmp_data)\n",
    "\n",
    "            dfs.append(tmp_merged)\n",
    "    \n",
    "    df = pd.concat(dfs)\n",
    "    df.to_csv(outpath, index=False)\n",
    "\n",
    "    if rtn_output:\n",
    "        return df\n"
   ]
  }
 ],
 "metadata": {
  "kernelspec": {
   "display_name": "tcors",
   "language": "python",
   "name": "python3"
  },
  "language_info": {
   "codemirror_mode": {
    "name": "ipython",
    "version": 3
   },
   "file_extension": ".py",
   "mimetype": "text/x-python",
   "name": "python",
   "nbconvert_exporter": "python",
   "pygments_lexer": "ipython3",
   "version": "3.12.1"
  }
 },
 "nbformat": 4,
 "nbformat_minor": 2
}
